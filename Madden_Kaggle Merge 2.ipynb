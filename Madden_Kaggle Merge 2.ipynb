{
 "cells": [
  {
   "cell_type": "code",
   "execution_count": 1,
   "metadata": {},
   "outputs": [
    {
     "name": "stderr",
     "output_type": "stream",
     "text": [
      "/opt/conda/lib/python3.7/site-packages/IPython/core/interactiveshell.py:3063: DtypeWarning: Columns (47) have mixed types.Specify dtype option on import or set low_memory=False.\n",
      "  interactivity=interactivity, compiler=compiler, result=result)\n"
     ]
    }
   ],
   "source": [
    "import numpy as np\n",
    "import pandas as pd\n",
    "import math\n",
    "\n",
    "low_memory = False\n",
    "\n",
    "# Read csv into pandas dataframe\n",
    "\n",
    "df = pd.read_csv('train.csv')"
   ]
  },
  {
   "cell_type": "code",
   "execution_count": 2,
   "metadata": {},
   "outputs": [
    {
     "data": {
      "text/plain": [
       "array(['ARI', 'ATL', 'BAL', 'BUF', 'CAR', 'CHI', 'CIN', 'CLE', 'DAL',\n",
       "       'DEN', 'DET', 'GB', 'HOU', 'IND', 'JAX', 'KC', 'LA', 'LAC', 'MIA',\n",
       "       'MIN', 'NE', 'NO', 'NYG', 'NYJ', 'OAK', 'PHI', 'PIT', 'SEA', 'SF',\n",
       "       'TB', 'TEN', 'WAS'], dtype=object)"
      ]
     },
     "execution_count": 2,
     "metadata": {},
     "output_type": "execute_result"
    }
   ],
   "source": [
    "np.sort(df['VisitorTeamAbbr'].unique())"
   ]
  },
  {
   "cell_type": "code",
   "execution_count": 3,
   "metadata": {},
   "outputs": [
    {
     "data": {
      "text/plain": [
       "array(['ARI', 'ATL', 'BAL', 'BUF', 'CAR', 'CHI', 'CIN', 'CLE', 'DAL',\n",
       "       'DEN', 'DET', 'GB', 'HOU', 'IND', 'JAX', 'KC', 'LA', 'LAC', 'MIA',\n",
       "       'MIN', 'NE', 'NO', 'NYG', 'NYJ', 'OAK', 'PHI', 'PIT', 'SEA', 'SF',\n",
       "       'TB', 'TEN', 'WAS'], dtype=object)"
      ]
     },
     "execution_count": 3,
     "metadata": {},
     "output_type": "execute_result"
    }
   ],
   "source": [
    "np.sort(df['HomeTeamAbbr'].unique())"
   ]
  },
  {
   "cell_type": "code",
   "execution_count": 4,
   "metadata": {},
   "outputs": [
    {
     "data": {
      "text/plain": [
       "array(['ARZ', 'ATL', 'BLT', 'BUF', 'CAR', 'CHI', 'CIN', 'CLV', 'DAL',\n",
       "       'DEN', 'DET', 'GB', 'HST', 'IND', 'JAX', 'KC', 'LA', 'LAC', 'MIA',\n",
       "       'MIN', 'NE', 'NO', 'NYG', 'NYJ', 'OAK', 'PHI', 'PIT', 'SEA', 'SF',\n",
       "       'TB', 'TEN', 'WAS'], dtype=object)"
      ]
     },
     "execution_count": 4,
     "metadata": {},
     "output_type": "execute_result"
    }
   ],
   "source": [
    "np.sort(df['PossessionTeam'].unique())"
   ]
  },
  {
   "cell_type": "code",
   "execution_count": 5,
   "metadata": {},
   "outputs": [
    {
     "data": {
      "text/plain": [
       "array(['NE', 'KC', nan, 'BUF', 'NYJ', 'ATL', 'CHI', 'CIN', 'BLT', 'CLV',\n",
       "       'PIT', 'ARZ', 'DET', 'JAX', 'HST', 'TEN', 'OAK', 'WAS', 'PHI',\n",
       "       'LA', 'IND', 'GB', 'SEA', 'CAR', 'SF', 'DAL', 'NYG', 'NO', 'MIN',\n",
       "       'DEN', 'LAC', 'TB', 'MIA'], dtype=object)"
      ]
     },
     "execution_count": 5,
     "metadata": {},
     "output_type": "execute_result"
    }
   ],
   "source": [
    "df['FieldPosition'].unique()"
   ]
  },
  {
   "cell_type": "code",
   "execution_count": 6,
   "metadata": {},
   "outputs": [],
   "source": [
    "df = df.replace({'PossessionTeam': {'BLT': 'BAL', 'CLV': 'CLE', 'HST': 'HOU', 'ARZ': 'ARI'}})\n",
    "df = df.replace({'FieldPosition': {'BLT': 'BAL', 'CLV': 'CLE', 'HST': 'HOU', 'ARZ': 'ARI'}})"
   ]
  },
  {
   "cell_type": "code",
   "execution_count": 7,
   "metadata": {},
   "outputs": [
    {
     "data": {
      "text/plain": [
       "array(['NE', 'KC', nan, 'BUF', 'NYJ', 'ATL', 'CHI', 'CIN', 'BAL', 'CLE',\n",
       "       'PIT', 'ARI', 'DET', 'JAX', 'HOU', 'TEN', 'OAK', 'WAS', 'PHI',\n",
       "       'LA', 'IND', 'GB', 'SEA', 'CAR', 'SF', 'DAL', 'NYG', 'NO', 'MIN',\n",
       "       'DEN', 'LAC', 'TB', 'MIA'], dtype=object)"
      ]
     },
     "execution_count": 7,
     "metadata": {},
     "output_type": "execute_result"
    }
   ],
   "source": [
    "pd.set_option('display.max_columns', None)\n",
    "\n",
    "df['FieldPosition'].unique()"
   ]
  },
  {
   "cell_type": "code",
   "execution_count": 8,
   "metadata": {},
   "outputs": [],
   "source": [
    "# Kaggle data modified with adjusted Player Names\n",
    "kaggle_df = df.copy()\n",
    "kaggle_df['DisplayName'] = kaggle_df['DisplayName'].str.lower().str.replace(\" \", \"\"\n",
    "                                                                ).str.replace('[^\\w\\s]',''\n",
    "                                                                             )\n",
    "# Madden Data loaded\n",
    "nfl_17 = pd.read_csv(\"nfl_rating_17 v2.csv\")\n",
    "nfl_18 = pd.read_csv(\"nfl_rating_18 v2.csv\")\n",
    "nfl_19 = pd.read_csv(\"nfl_rating_19 v2.csv\")"
   ]
  },
  {
   "cell_type": "code",
   "execution_count": 9,
   "metadata": {},
   "outputs": [],
   "source": [
    "# Player name isolation based on season\n",
    "kaggle_17 = kaggle_df[kaggle_df['Season']==2017]\n",
    "name_17 = kaggle_17['DisplayName'].drop_duplicates().to_list()\n",
    "\n",
    "kaggle_18 = kaggle_df[kaggle_df['Season']==2018]\n",
    "name_18 = kaggle_18['DisplayName'].drop_duplicates().to_list()\n",
    "\n",
    "kaggle_19 = kaggle_df[kaggle_df['Season']==2019]\n",
    "name_19 = kaggle_19['DisplayName'].drop_duplicates().to_list()"
   ]
  },
  {
   "cell_type": "code",
   "execution_count": 10,
   "metadata": {},
   "outputs": [],
   "source": [
    "# Players that will obtain Madden data\n",
    "yes_show_17 = []\n",
    "for i in name_17:\n",
    "    if i in nfl_17['name'].tolist():\n",
    "        yes_show_17.append(i)\n",
    "\n",
    "yes_show_18 = []\n",
    "for i in name_18:\n",
    "    if i in nfl_18['name'].tolist():\n",
    "        yes_show_18.append(i)\n",
    "\n",
    "yes_show_19 = []\n",
    "for i in name_19:\n",
    "    if i in nfl_19['name'].tolist():\n",
    "        yes_show_19.append(i)"
   ]
  },
  {
   "cell_type": "code",
   "execution_count": 11,
   "metadata": {},
   "outputs": [],
   "source": [
    "# Madden columns currently being used for merge\n",
    "column_order = ['name','awareness',\n",
    "       'strength', 'ball carrier vision',\n",
    "       'pursuit', 'acceleration', 'spin move',\n",
    "       'finesse moves', 'run block', 'tackle',\n",
    "       'zone coverage', 'weight', 'truck', 'juke move',\n",
    "       'play recognition', 'speed', 'run block power', 'jumping', 'toughness',\n",
    "       'man coverage', 'stiff arm', 'power moves',\n",
    "       'release', 'hit power',\n",
    "       'pass block power', 'impact blocking', 'stamina', 'carrying','pass block', 'press',\n",
    "       'block shedding', 'run block finesse', 'agility', 'elusiveness',\n",
    "       'pass block finesse', 'route running']"
   ]
  },
  {
   "cell_type": "code",
   "execution_count": 12,
   "metadata": {},
   "outputs": [],
   "source": [
    "# Madden datasets adjusted to show names that appear in Kaggle dataset\n",
    "# Kaggle dataset has 'DisplayName' column renamed to 'name' for merger purposes\n",
    "\n",
    "nfl_17_mod = nfl_17[nfl_17['name'].isin(yes_show_17)].drop(columns=['Unnamed: 0'])\n",
    "kaggle_17 = kaggle_17.rename(columns={'DisplayName':'name'})\n",
    "nfl_17_mod = nfl_17_mod[column_order]\n",
    "\n",
    "nfl_18_mod = nfl_18[nfl_18['name'].isin(yes_show_18)].drop(columns=['Unnamed: 0'])\n",
    "kaggle_18 = kaggle_18.rename(columns={'DisplayName':'name'})\n",
    "nfl_18_mod = nfl_18_mod[column_order]\n",
    "\n",
    "nfl_19_mod = nfl_19[nfl_19['name'].isin(yes_show_19)].drop(columns=['Unnamed: 0'])\n",
    "kaggle_19 = kaggle_19.rename(columns={'DisplayName':'name'})\n",
    "nfl_19_mod = nfl_19_mod[column_order]"
   ]
  },
  {
   "cell_type": "code",
   "execution_count": 13,
   "metadata": {},
   "outputs": [],
   "source": [
    "# Merge between Madden and Kaggle \n",
    "nfl_17_res = kaggle_17.merge(nfl_17_mod, on='name', how='left')\n",
    "nfl_18_res = kaggle_18.merge(nfl_18_mod, on='name', how='left')\n",
    "nfl_19_res = kaggle_19.merge(nfl_19_mod, on='name', how='left')\n",
    "\n",
    "kaggle_modified = pd.concat([nfl_17_res, nfl_18_res, nfl_19_res], ignore_index=True)"
   ]
  },
  {
   "cell_type": "code",
   "execution_count": 14,
   "metadata": {},
   "outputs": [],
   "source": [
    "kaggle_modified.to_csv(\"Kaggle_Madden.csv\")"
   ]
  },
  {
   "cell_type": "code",
   "execution_count": 15,
   "metadata": {},
   "outputs": [],
   "source": [
    "# Resulting merge dataframe to CSV file\n",
    "# nfl_17_res.to_csv(\"kaggle_17_Complete.csv\")\n",
    "# nfl_18_res.to_csv(\"kaggle_18_Complete.csv\")\n",
    "# nfl_19_res.to_csv(\"kaggle_19_Complete.csv\")"
   ]
  }
 ],
 "metadata": {
  "kernelspec": {
   "display_name": "Python 3",
   "language": "python",
   "name": "python3"
  },
  "language_info": {
   "codemirror_mode": {
    "name": "ipython",
    "version": 3
   },
   "file_extension": ".py",
   "mimetype": "text/x-python",
   "name": "python",
   "nbconvert_exporter": "python",
   "pygments_lexer": "ipython3",
   "version": "3.7.6"
  }
 },
 "nbformat": 4,
 "nbformat_minor": 4
}
