{
 "cells": [
  {
   "cell_type": "code",
   "execution_count": 64,
   "metadata": {},
   "outputs": [],
   "source": [
    "import numpy as np\n",
    "import pandas as pd\n",
    "import math\n",
    "\n",
    "#import import_ipynb\n",
    "import nbimporter\n",
    "from Scoring_Function import score\n",
    "\n",
    "# Read csv into pandas dataframe\n",
    "df = pd.read_csv('train_fixed.csv', low_memory=False)\n",
    "pd.set_option('display.max_columns', None)\n",
    "pd.options.mode.chained_assignment = None  # default='warn'"
   ]
  },
  {
   "cell_type": "code",
   "execution_count": 2,
   "metadata": {
    "scrolled": true
   },
   "outputs": [
    {
     "data": {
      "text/plain": [
       "array([20170907000118, 20170907000139, 20170907000189, ...,\n",
       "       20181230154082, 20181230154135, 20181230154157])"
      ]
     },
     "execution_count": 2,
     "metadata": {},
     "output_type": "execute_result"
    }
   ],
   "source": [
    "plays = pd.unique(df['PlayId'])\n",
    "plays"
   ]
  },
  {
   "cell_type": "code",
   "execution_count": 3,
   "metadata": {},
   "outputs": [],
   "source": [
    "A_id = 20170907000118\n",
    "B_id = 20170907000139"
   ]
  },
  {
   "cell_type": "code",
   "execution_count": 4,
   "metadata": {},
   "outputs": [],
   "source": [
    "def calc_similar(A_id, B_id):\n",
    "    A = df[df['PlayId'] == 20170907000118]\n",
    "    B = df[df['PlayId'] == 20170907000139]\n",
    "    \n",
    "    # Set up Play A for matching\n",
    "    players_A = pd.DataFrame(columns = A.columns)\n",
    "    count_A = 0\n",
    "    rush_index_A = 0\n",
    "    \n",
    "    for i in range(len(A)):\n",
    "        count_A += 1\n",
    "        if A.iloc[i]['NflId'] == A.iloc[i]['NflIdRusher']:\n",
    "            rush_index_A = count_A\n",
    "            rusher_A = pd.DataFrame(columns = A.columns)\n",
    "            rusher_A = rusher_A.append(A.iloc[i])\n",
    "        else:\n",
    "            players_A = players_A.append(A.iloc[i])\n",
    "            \n",
    "    if rush_index_A < 12:\n",
    "        offense_A = players_A[:10]\n",
    "        defense_A = players_A[10:]\n",
    "    else:\n",
    "        offense_A = players_A[11:]\n",
    "        defense_A = players_A[:11]\n",
    "        \n",
    "    offense_A = offense_A[offense_A['Position'].isin(['WR', 'TE', 'RB', 'HB'])]\n",
    "    \n",
    "    # Set up Play B for matching\n",
    "    players_B = pd.DataFrame(columns = B.columns)\n",
    "    count_B = 0\n",
    "    rush_index_B = 0\n",
    "    \n",
    "    for i in range(len(B)):\n",
    "        count_B += 1\n",
    "        if B.iloc[i]['NflId'] == B.iloc[i]['NflIdRusher']:\n",
    "            rush_index_B = count_B\n",
    "            rusher_B = pd.DataFrame(columns = B.columns)\n",
    "            rusher_B = rusher_B.append(B.iloc[i])\n",
    "        else:\n",
    "            players_B = players_B.append(B.iloc[i])\n",
    "            \n",
    "    if rush_index_B < 12:\n",
    "        offense_B = players_B.iloc[:10]\n",
    "        defense_B = players_B.iloc[10:]\n",
    "    else:\n",
    "        offense_B = players_B.iloc[11:]\n",
    "        defense_B = players_B.iloc[:11]\n",
    "        \n",
    "    offense_B = offense_B[offense_B['Position'].isin(['WR', 'TE', 'RB', 'HB'])]\n",
    "    \n",
    "    # Check if offensive personnel amount is matching\n",
    "    if len(offense_A) != len(offense_B):\n",
    "        return 1000 # Return large error\n",
    "    \n",
    "    # Find players' positions relative to the rusher for Play A\n",
    "    if offense_A['PlayDirection'].iloc[0] == 'left':\n",
    "        offense_A['X_scaled'] = offense_A['X'] - rusher_A['X'].iloc[0]\n",
    "        defense_A['X_scaled'] = defense_A['X'] - rusher_A['X'].iloc[0]\n",
    "    else:\n",
    "        offense_A['X_scaled'] = rusher_A['X'].iloc[0] - offense_A['X']\n",
    "        defense_A['X_scaled'] = rusher_A['X'].iloc[0] - defense_A['X']\n",
    "        \n",
    "    offense_A['Y_scaled'] = rusher_A['Y'].iloc[0] - offense_A['Y']\n",
    "    defense_A['Y_scaled'] = rusher_A['Y'].iloc[0] - defense_A['Y']\n",
    "    \n",
    "    # Find players' positions relative to the rusher for Play B\n",
    "    if offense_B['PlayDirection'].iloc[0] == 'left':\n",
    "        offense_B['X_scaled'] = offense_B['X'] - rusher_B['X'].iloc[0]\n",
    "        defense_B['X_scaled'] = defense_B['X'] - rusher_B['X'].iloc[0]\n",
    "    else:\n",
    "        offense_B['X_scaled'] = rusher_B['X'].iloc[0] - offense_B['X']\n",
    "        defense_B['X_scaled'] = rusher_B['X'].iloc[0] - defense_B['X']\n",
    "        \n",
    "    offense_B['Y_scaled'] = rusher_B['Y'].iloc[0] - offense_B['Y']\n",
    "    defense_B['Y_scaled'] = rusher_B['Y'].iloc[0] - defense_B['Y']\n",
    "    \n",
    "    \n",
    "    # Initialize error counter\n",
    "    error = 0\n",
    "    # Match up and calculate error for offense\n",
    "    while len(offense_A) > 0:\n",
    "        curr = offense_A.iloc[0]\n",
    "        play_error = 1000\n",
    "        play_index = None\n",
    "        for i in range(len(offense_B)):\n",
    "            dist = math.sqrt((curr['X_scaled'] - offense_B['X_scaled'].iloc[i])**2 + \n",
    "                             (curr['Y_scaled'] - offense_B['Y_scaled'].iloc[i])**2)\n",
    "            if dist < play_error:\n",
    "                play_error = dist\n",
    "                play_index = i\n",
    "            \n",
    "        error += play_error\n",
    "        offense_B = offense_B.drop(offense_B.index[play_index])\n",
    "        \n",
    "        offense_A = offense_A.drop(offense_A.index[0])\n",
    "    \n",
    "    return error\n",
    "    "
   ]
  },
  {
   "cell_type": "code",
   "execution_count": 5,
   "metadata": {},
   "outputs": [
    {
     "data": {
      "text/plain": [
       "26.140444491203255"
      ]
     },
     "execution_count": 5,
     "metadata": {},
     "output_type": "execute_result"
    }
   ],
   "source": [
    "calc_similar(A_id, B_id)"
   ]
  },
  {
   "cell_type": "code",
   "execution_count": 65,
   "metadata": {},
   "outputs": [],
   "source": [
    "df = df[:220]"
   ]
  },
  {
   "cell_type": "code",
   "execution_count": 70,
   "metadata": {},
   "outputs": [],
   "source": [
    "plays_yards = df[['PlayId', 'Yards']].drop_duplicates()\n",
    "\n",
    "from sklearn.model_selection import train_test_split\n",
    "train , test = train_test_split(plays_yards, test_size = 0.3)\n",
    "\n",
    "x_train = train.drop(['Yards'], axis=1)\n",
    "y_train = train['Yards']\n",
    "\n",
    "x_test = test.drop(['Yards'], axis = 1)\n",
    "y_test = test['Yards']"
   ]
  },
  {
   "cell_type": "code",
   "execution_count": 71,
   "metadata": {},
   "outputs": [
    {
     "data": {
      "text/plain": [
       "{'n_neighbors': 1}"
      ]
     },
     "execution_count": 71,
     "metadata": {},
     "output_type": "execute_result"
    }
   ],
   "source": [
    "from sklearn import neighbors\n",
    "from sklearn.metrics import mean_squared_error \n",
    "\n",
    "from sklearn.model_selection import GridSearchCV\n",
    "params = {'n_neighbors': [*range(1, 2, 1)]}\n",
    "\n",
    "knn = neighbors.KNeighborsRegressor(metric=calc_similar)\n",
    "\n",
    "model = GridSearchCV(knn, params, cv=3)\n",
    "model.fit(x_train,y_train)\n",
    "model.best_params_"
   ]
  },
  {
   "cell_type": "code",
   "execution_count": 72,
   "metadata": {},
   "outputs": [
    {
     "data": {
      "text/plain": [
       "array([9., 7., 8.])"
      ]
     },
     "execution_count": 72,
     "metadata": {},
     "output_type": "execute_result"
    }
   ],
   "source": [
    "model = neighbors.KNeighborsRegressor(n_neighbors = model.best_params_['n_neighbors'])\n",
    "model.fit(x_train, y_train)  #fit the model\n",
    "pred=model.predict(x_test) #make prediction on test set\n",
    "pred_round = np.around(pred)\n",
    "pred_round"
   ]
  },
  {
   "cell_type": "code",
   "execution_count": 73,
   "metadata": {},
   "outputs": [],
   "source": [
    "sample_sub = pd.read_csv('sample_submission.csv').rename(columns={\"Unnamed: 0\": \"PlayId\"}) #bring in sample sumbission\n",
    "sub = sample_sub.set_index('PlayId').drop([0])\n",
    "plays = pd.unique(test['PlayId'])\n",
    "\n",
    "for i in range(plays.size):\n",
    "    dist = np.histogram(pred_round[i], bins = 199, range = (-99, 99))[0] #find probability for each bin\n",
    "    cumul_sum = np.cumsum(dist)\n",
    "    sub.loc[plays[i]] = cumul_sum\n",
    "sub = sub.reset_index()"
   ]
  },
  {
   "cell_type": "code",
   "execution_count": 74,
   "metadata": {},
   "outputs": [
    {
     "data": {
      "text/plain": [
       "0.031825795644891124"
      ]
     },
     "execution_count": 74,
     "metadata": {},
     "output_type": "execute_result"
    }
   ],
   "source": [
    "score(sub, df)"
   ]
  },
  {
   "cell_type": "code",
   "execution_count": null,
   "metadata": {},
   "outputs": [],
   "source": []
  }
 ],
 "metadata": {
  "kernelspec": {
   "display_name": "Python 3",
   "language": "python",
   "name": "python3"
  },
  "language_info": {
   "codemirror_mode": {
    "name": "ipython",
    "version": 3
   },
   "file_extension": ".py",
   "mimetype": "text/x-python",
   "name": "python",
   "nbconvert_exporter": "python",
   "pygments_lexer": "ipython3",
   "version": "3.7.6"
  }
 },
 "nbformat": 4,
 "nbformat_minor": 4
}
