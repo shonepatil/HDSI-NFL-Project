{
 "cells": [
  {
   "cell_type": "code",
   "execution_count": 1,
   "metadata": {},
   "outputs": [
    {
     "name": "stdout",
     "output_type": "stream",
     "text": [
      "Importing Jupyter notebook from Scoring_Function.ipynb\n"
     ]
    }
   ],
   "source": [
    "import numpy as np\n",
    "import pandas as pd\n",
    "import math\n",
    "\n",
    "#import import_ipynb\n",
    "import nbimporter\n",
    "from Scoring_Function import score\n",
    "\n",
    "# Read csv into pandas dataframe\n",
    "df = pd.read_csv('train_fixed.csv', low_memory=False)\n",
    "pd.set_option('display.max_columns', None)\n",
    "pd.options.mode.chained_assignment = None  # default='warn'"
   ]
  },
  {
   "cell_type": "code",
   "execution_count": 2,
   "metadata": {
    "scrolled": true
   },
   "outputs": [
    {
     "data": {
      "text/plain": [
       "array([20170907000118, 20170907000139, 20170907000189, ...,\n",
       "       20191125003496, 20191125003768, 20191125003789])"
      ]
     },
     "execution_count": 2,
     "metadata": {},
     "output_type": "execute_result"
    }
   ],
   "source": [
    "plays = pd.unique(df['PlayId'])\n",
    "plays"
   ]
  },
  {
   "cell_type": "code",
   "execution_count": 3,
   "metadata": {},
   "outputs": [],
   "source": [
    "def calc_yards_to_go(row):\n",
    "    if row['PossessionTeam'] == row['FieldPosition']:\n",
    "        return 100 - row['YardLine']\n",
    "    else:\n",
    "        return row['YardLine']\n",
    "\n",
    "df['YardsToGo'] = df.apply(lambda row: calc_yards_to_go(row), axis = 1)"
   ]
  },
  {
   "cell_type": "code",
   "execution_count": 4,
   "metadata": {},
   "outputs": [],
   "source": [
    "A_id = [20170907001443]\n",
    "B_id = [20170910003454]"
   ]
  },
  {
   "cell_type": "code",
   "execution_count": 5,
   "metadata": {},
   "outputs": [],
   "source": [
    "def calc_similar(A_id, B_id):\n",
    "    A = df[df['PlayId'] == int(A_id[0])]\n",
    "    B = df[df['PlayId'] == int(B_id[0])]\n",
    "    \n",
    "    # Set up Play A for matching\n",
    "    players_A = pd.DataFrame(columns = A.columns)\n",
    "    count_A = 0\n",
    "    rush_index_A = 0\n",
    "    \n",
    "    for i in range(len(A)):\n",
    "        count_A += 1\n",
    "        if A.iloc[i]['NflId'] == A.iloc[i]['NflIdRusher']:\n",
    "            rush_index_A = count_A\n",
    "            rusher_A = pd.DataFrame(columns = A.columns)\n",
    "            rusher_A = rusher_A.append(A.iloc[i])\n",
    "        else:\n",
    "            players_A = players_A.append(A.iloc[i])\n",
    "            \n",
    "    if rush_index_A < 12:\n",
    "        offense_A = players_A[:10]\n",
    "        defense_A = players_A[10:]\n",
    "    else:\n",
    "        offense_A = players_A[11:]\n",
    "        defense_A = players_A[:11]\n",
    "        \n",
    "    offense_A = offense_A[offense_A['Position'].isin(['WR', 'TE', 'RB', 'HB'])]\n",
    "    \n",
    "    # Set up Play B for matching\n",
    "    players_B = pd.DataFrame(columns = B.columns)\n",
    "    count_B = 0\n",
    "    rush_index_B = 0\n",
    "    \n",
    "    for i in range(len(B)):\n",
    "        count_B += 1\n",
    "        if B.iloc[i]['NflId'] == B.iloc[i]['NflIdRusher']:\n",
    "            rush_index_B = count_B\n",
    "            rusher_B = pd.DataFrame(columns = B.columns)\n",
    "            rusher_B = rusher_B.append(B.iloc[i])\n",
    "        else:\n",
    "            players_B = players_B.append(B.iloc[i])\n",
    "            \n",
    "    if rush_index_B < 12:\n",
    "        offense_B = players_B.iloc[:10]\n",
    "        defense_B = players_B.iloc[10:]\n",
    "    else:\n",
    "        offense_B = players_B.iloc[11:]\n",
    "        defense_B = players_B.iloc[:11]\n",
    "        \n",
    "    offense_B = offense_B[offense_B['Position'].isin(['WR', 'TE', 'RB', 'HB'])]\n",
    "    \n",
    "    # Check if offensive personnel amount is matching\n",
    "    if len(offense_A) != len(offense_B):\n",
    "        return 1000 # Return large error\n",
    "    \n",
    "    # Find players' positions relative to the rusher for Play A\n",
    "    if offense_A['PlayDirection'].iloc[0] == 'left':\n",
    "        offense_A['X_scaled'] = offense_A['X'] - rusher_A['X'].iloc[0]\n",
    "        defense_A['X_scaled'] = defense_A['X'] - rusher_A['X'].iloc[0]\n",
    "    else:\n",
    "        offense_A['X_scaled'] = rusher_A['X'].iloc[0] - offense_A['X']\n",
    "        defense_A['X_scaled'] = rusher_A['X'].iloc[0] - defense_A['X']\n",
    "        \n",
    "    offense_A['Y_scaled'] = rusher_A['Y'].iloc[0] - offense_A['Y']\n",
    "    defense_A['Y_scaled'] = rusher_A['Y'].iloc[0] - defense_A['Y']\n",
    "    \n",
    "    # Find players' positions relative to the rusher for Play B\n",
    "    if offense_B['PlayDirection'].iloc[0] == 'left':\n",
    "        offense_B['X_scaled'] = offense_B['X'] - rusher_B['X'].iloc[0]\n",
    "        defense_B['X_scaled'] = defense_B['X'] - rusher_B['X'].iloc[0]\n",
    "    else:\n",
    "        offense_B['X_scaled'] = rusher_B['X'].iloc[0] - offense_B['X']\n",
    "        defense_B['X_scaled'] = rusher_B['X'].iloc[0] - defense_B['X']\n",
    "        \n",
    "    offense_B['Y_scaled'] = rusher_B['Y'].iloc[0] - offense_B['Y']\n",
    "    defense_B['Y_scaled'] = rusher_B['Y'].iloc[0] - defense_B['Y']\n",
    "    \n",
    "    \n",
    "    # Initialize error counter\n",
    "    error = 0\n",
    "    # Match up and calculate error for offense\n",
    "    while len(offense_A) > 0:\n",
    "        curr = offense_A.iloc[0]\n",
    "        play_error = 1000\n",
    "        play_index = None\n",
    "        for i in range(len(offense_B)):\n",
    "            dist = math.sqrt((curr['X_scaled'] - offense_B['X_scaled'].iloc[i])**2 + \n",
    "                             (curr['Y_scaled'] - offense_B['Y_scaled'].iloc[i])**2)\n",
    "            if dist < play_error:\n",
    "                play_error = dist\n",
    "                play_index = i\n",
    "            \n",
    "        error += play_error\n",
    "        offense_B = offense_B.drop(offense_B.index[play_index])\n",
    "        \n",
    "        offense_A = offense_A.drop(offense_A.index[0])\n",
    "        \n",
    "#     new_error = abs(A['YardsToGo'].iloc[0] - B['YardsToGo'].iloc[0])\n",
    "        \n",
    "    return error\n",
    "    "
   ]
  },
  {
   "cell_type": "code",
   "execution_count": 6,
   "metadata": {},
   "outputs": [
    {
     "data": {
      "text/plain": [
       "7.8888234445679855"
      ]
     },
     "execution_count": 6,
     "metadata": {},
     "output_type": "execute_result"
    }
   ],
   "source": [
    "calc_similar(A_id, B_id)"
   ]
  },
  {
   "cell_type": "code",
   "execution_count": 16,
   "metadata": {},
   "outputs": [],
   "source": [
    "data = df[:500]"
   ]
  },
  {
   "cell_type": "code",
   "execution_count": 17,
   "metadata": {},
   "outputs": [
    {
     "data": {
      "text/plain": [
       "500"
      ]
     },
     "execution_count": 17,
     "metadata": {},
     "output_type": "execute_result"
    }
   ],
   "source": [
    "len(data)"
   ]
  },
  {
   "cell_type": "code",
   "execution_count": 18,
   "metadata": {},
   "outputs": [],
   "source": [
    "plays_yards = data[['PlayId', 'Yards']].drop_duplicates()\n",
    "\n",
    "from sklearn.model_selection import train_test_split\n",
    "train , test = train_test_split(plays_yards, test_size = 0.3)\n",
    "\n",
    "x_train = train.drop(['Yards'], axis=1)\n",
    "y_train = train['Yards']\n",
    "\n",
    "x_test = test.drop(['Yards'], axis = 1)\n",
    "y_test = test['Yards']"
   ]
  },
  {
   "cell_type": "code",
   "execution_count": 19,
   "metadata": {},
   "outputs": [],
   "source": [
    "from sklearn import neighbors\n",
    "from sklearn.metrics import mean_squared_error \n",
    "\n",
    "from sklearn.model_selection import GridSearchCV\n",
    "# params = {'n_neighbors': [*range(5, 6, 1)]}\n",
    "\n",
    "# knn = neighbors.KNeighborsRegressor(metric=calc_similar)\n",
    "\n",
    "# model = GridSearchCV(knn, params, cv=5)\n",
    "# model.fit(x_train,y_train)\n",
    "# model.best_params_"
   ]
  },
  {
   "cell_type": "code",
   "execution_count": 20,
   "metadata": {
    "scrolled": false
   },
   "outputs": [
    {
     "data": {
      "text/plain": [
       "array([4., 3., 2., 4., 3., 3., 4.])"
      ]
     },
     "execution_count": 20,
     "metadata": {},
     "output_type": "execute_result"
    }
   ],
   "source": [
    "model = neighbors.KNeighborsRegressor(metric=calc_similar, n_neighbors = 5)#model.best_params_['n_neighbors'])\n",
    "model.fit(x_train, y_train)  #fit the model\n",
    "pred=model.predict(x_test) #make prediction on test set\n",
    "pred_round = np.around(pred)\n",
    "pred_round"
   ]
  },
  {
   "cell_type": "code",
   "execution_count": 21,
   "metadata": {},
   "outputs": [],
   "source": [
    "sample_sub = pd.read_csv('sample_submission.csv').rename(columns={\"Unnamed: 0\": \"PlayId\"}) #bring in sample sumbission\n",
    "sub = sample_sub.set_index('PlayId').drop([0])\n",
    "plays = pd.unique(test['PlayId'])\n",
    "\n",
    "for i in range(plays.size):\n",
    "    dist = np.histogram(np.random.normal(pred_round[i], 2, 1000), bins = 199, range = (-99, 99), density=True)[0] #find probability for each bin\n",
    "    cumul_sum = np.cumsum(dist)\n",
    "    sub.loc[plays[i]] = cumul_sum\n",
    "sub = sub.reset_index()"
   ]
  },
  {
   "cell_type": "code",
   "execution_count": 22,
   "metadata": {},
   "outputs": [
    {
     "data": {
      "text/plain": [
       "0.022821328483812752"
      ]
     },
     "execution_count": 22,
     "metadata": {},
     "output_type": "execute_result"
    }
   ],
   "source": [
    "score(sub, df)"
   ]
  },
  {
   "cell_type": "code",
   "execution_count": null,
   "metadata": {
    "scrolled": true
   },
   "outputs": [],
   "source": [
    "sub"
   ]
  },
  {
   "cell_type": "code",
   "execution_count": null,
   "metadata": {
    "scrolled": true
   },
   "outputs": [],
   "source": [
    "model.kneighbors([[20170907001443]])\n",
    "\n",
    "0.015474905604120355\n"
   ]
  }
 ],
 "metadata": {
  "kernelspec": {
   "display_name": "Python 3",
   "language": "python",
   "name": "python3"
  },
  "language_info": {
   "codemirror_mode": {
    "name": "ipython",
    "version": 3
   },
   "file_extension": ".py",
   "mimetype": "text/x-python",
   "name": "python",
   "nbconvert_exporter": "python",
   "pygments_lexer": "ipython3",
   "version": "3.7.6"
  }
 },
 "nbformat": 4,
 "nbformat_minor": 4
}
